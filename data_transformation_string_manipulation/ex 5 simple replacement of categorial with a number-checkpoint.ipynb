{
 "cells": [
  {
   "cell_type": "code",
   "execution_count": 10,
   "id": "0bb62b1f",
   "metadata": {},
   "outputs": [
    {
     "name": "stdout",
     "output_type": "stream",
     "text": [
      "Requirement already satisfied: numpy in c:\\users\\ragul\\anaconda3\\lib\\site-packages (1.24.3)\n",
      "Requirement already satisfied: pandas in c:\\users\\ragul\\anaconda3\\lib\\site-packages (2.0.3)\n",
      "Requirement already satisfied: python-dateutil>=2.8.2 in c:\\users\\ragul\\anaconda3\\lib\\site-packages (from pandas) (2.8.2)\n",
      "Requirement already satisfied: pytz>=2020.1 in c:\\users\\ragul\\anaconda3\\lib\\site-packages (from pandas) (2023.3.post1)\n",
      "Requirement already satisfied: tzdata>=2022.1 in c:\\users\\ragul\\anaconda3\\lib\\site-packages (from pandas) (2023.3)\n",
      "Requirement already satisfied: numpy>=1.21.0 in c:\\users\\ragul\\anaconda3\\lib\\site-packages (from pandas) (1.24.3)\n",
      "Requirement already satisfied: six>=1.5 in c:\\users\\ragul\\anaconda3\\lib\\site-packages (from python-dateutil>=2.8.2->pandas) (1.16.0)\n"
     ]
    }
   ],
   "source": [
    "! pip install numpy\n",
    "! pip install pandas"
   ]
  },
  {
   "cell_type": "code",
   "execution_count": null,
   "id": "88cc9192",
   "metadata": {},
   "outputs": [],
   "source": [
    "import numpy as np\n",
    "import pandas as pd"
   ]
  },
  {
   "cell_type": "code",
   "execution_count": 12,
   "id": "6cdf748f",
   "metadata": {},
   "outputs": [],
   "source": [
    "df=pd.read_csv(r\"C:\\Philip Samuel M\\final_data.csv\")"
   ]
  },
  {
   "cell_type": "code",
   "execution_count": 17,
   "id": "cf4e1b7a",
   "metadata": {},
   "outputs": [],
   "source": [
    "df_categorical = df.select_dtypes(exclude=['number'])"
   ]
  },
  {
   "cell_type": "code",
   "execution_count": 18,
   "id": "14a8724c",
   "metadata": {},
   "outputs": [
    {
     "data": {
      "text/html": [
       "<div>\n",
       "<style scoped>\n",
       "    .dataframe tbody tr th:only-of-type {\n",
       "        vertical-align: middle;\n",
       "    }\n",
       "\n",
       "    .dataframe tbody tr th {\n",
       "        vertical-align: top;\n",
       "    }\n",
       "\n",
       "    .dataframe thead th {\n",
       "        text-align: right;\n",
       "    }\n",
       "</style>\n",
       "<table border=\"1\" class=\"dataframe\">\n",
       "  <thead>\n",
       "    <tr style=\"text-align: right;\">\n",
       "      <th></th>\n",
       "      <th>Company_Name</th>\n",
       "      <th>Class</th>\n",
       "      <th>Designation</th>\n",
       "      <th>Location</th>\n",
       "      <th>Level</th>\n",
       "      <th>Involvement</th>\n",
       "      <th>Industry</th>\n",
       "    </tr>\n",
       "  </thead>\n",
       "  <tbody>\n",
       "    <tr>\n",
       "      <th>0</th>\n",
       "      <td>Wipro</td>\n",
       "      <td>Class 3</td>\n",
       "      <td>Project Manager</td>\n",
       "      <td>Maharashtra</td>\n",
       "      <td>Full-time</td>\n",
       "      <td>Entry level</td>\n",
       "      <td>IT Services and IT Consulting</td>\n",
       "    </tr>\n",
       "    <tr>\n",
       "      <th>1</th>\n",
       "      <td>Wipro</td>\n",
       "      <td>Class 3</td>\n",
       "      <td>Project Manager</td>\n",
       "      <td>Delhi</td>\n",
       "      <td>Full-time</td>\n",
       "      <td>Entry level</td>\n",
       "      <td>IT Services and IT Consulting</td>\n",
       "    </tr>\n",
       "    <tr>\n",
       "      <th>2</th>\n",
       "      <td>Wipro</td>\n",
       "      <td>Class 3</td>\n",
       "      <td>Project Manager</td>\n",
       "      <td>Delhi</td>\n",
       "      <td>Full-time</td>\n",
       "      <td>Entry level</td>\n",
       "      <td>IT Services and IT Consulting</td>\n",
       "    </tr>\n",
       "    <tr>\n",
       "      <th>3</th>\n",
       "      <td>Wipro</td>\n",
       "      <td>Class 3</td>\n",
       "      <td>Administrator</td>\n",
       "      <td>Telangana</td>\n",
       "      <td>Full-time</td>\n",
       "      <td>Mid-Senior level</td>\n",
       "      <td>IT Services and IT Consulting</td>\n",
       "    </tr>\n",
       "    <tr>\n",
       "      <th>4</th>\n",
       "      <td>Wipro</td>\n",
       "      <td>Class 3</td>\n",
       "      <td>Project Manager</td>\n",
       "      <td>Maharashtra</td>\n",
       "      <td>Full-time</td>\n",
       "      <td>Entry level</td>\n",
       "      <td>IT Services and IT Consulting</td>\n",
       "    </tr>\n",
       "    <tr>\n",
       "      <th>...</th>\n",
       "      <td>...</td>\n",
       "      <td>...</td>\n",
       "      <td>...</td>\n",
       "      <td>...</td>\n",
       "      <td>...</td>\n",
       "      <td>...</td>\n",
       "      <td>...</td>\n",
       "    </tr>\n",
       "    <tr>\n",
       "      <th>806</th>\n",
       "      <td>Infosys</td>\n",
       "      <td>Class 3</td>\n",
       "      <td>Java Developer (5-8 yrs) Indore</td>\n",
       "      <td>Madhya Pradesh</td>\n",
       "      <td>Full-time</td>\n",
       "      <td>Mid-Senior level</td>\n",
       "      <td>IT Services and IT Consulting</td>\n",
       "    </tr>\n",
       "    <tr>\n",
       "      <th>807</th>\n",
       "      <td>Infosys</td>\n",
       "      <td>Class 3</td>\n",
       "      <td>Technology Analyst - NodeJs (3-5 years) - Bhub...</td>\n",
       "      <td>Odisha</td>\n",
       "      <td>Full-time</td>\n",
       "      <td>Entry level</td>\n",
       "      <td>IT Services and IT Consulting</td>\n",
       "    </tr>\n",
       "    <tr>\n",
       "      <th>808</th>\n",
       "      <td>Genpact</td>\n",
       "      <td>Class 1</td>\n",
       "      <td>Hiring for OTC- JAIPUR</td>\n",
       "      <td>Rajasthan</td>\n",
       "      <td>Full-time</td>\n",
       "      <td>Entry level</td>\n",
       "      <td>IT Services and IT Consulting</td>\n",
       "    </tr>\n",
       "    <tr>\n",
       "      <th>809</th>\n",
       "      <td>Genpact</td>\n",
       "      <td>Class 1</td>\n",
       "      <td>C++ Developer</td>\n",
       "      <td>Telangana</td>\n",
       "      <td>Full-time</td>\n",
       "      <td>Mid-Senior level</td>\n",
       "      <td>IT Services and IT Consulting</td>\n",
       "    </tr>\n",
       "    <tr>\n",
       "      <th>810</th>\n",
       "      <td>Genpact</td>\n",
       "      <td>Class 1</td>\n",
       "      <td>Hiring for RTR- Jaipur</td>\n",
       "      <td>Rajasthan</td>\n",
       "      <td>Full-time</td>\n",
       "      <td>Associate</td>\n",
       "      <td>IT Services and IT Consulting</td>\n",
       "    </tr>\n",
       "  </tbody>\n",
       "</table>\n",
       "<p>811 rows × 7 columns</p>\n",
       "</div>"
      ],
      "text/plain": [
       "    Company_Name    Class                                        Designation  \\\n",
       "0          Wipro  Class 3                                    Project Manager   \n",
       "1          Wipro  Class 3                                    Project Manager   \n",
       "2          Wipro  Class 3                                    Project Manager   \n",
       "3          Wipro  Class 3                                      Administrator   \n",
       "4          Wipro  Class 3                                    Project Manager   \n",
       "..           ...      ...                                                ...   \n",
       "806      Infosys  Class 3                    Java Developer (5-8 yrs) Indore   \n",
       "807      Infosys  Class 3  Technology Analyst - NodeJs (3-5 years) - Bhub...   \n",
       "808      Genpact  Class 1                             Hiring for OTC- JAIPUR   \n",
       "809      Genpact  Class 1                                      C++ Developer   \n",
       "810      Genpact  Class 1                             Hiring for RTR- Jaipur   \n",
       "\n",
       "            Location       Level        Involvement  \\\n",
       "0        Maharashtra  Full-time         Entry level   \n",
       "1              Delhi  Full-time         Entry level   \n",
       "2              Delhi  Full-time         Entry level   \n",
       "3          Telangana  Full-time    Mid-Senior level   \n",
       "4        Maharashtra  Full-time         Entry level   \n",
       "..               ...         ...                ...   \n",
       "806   Madhya Pradesh  Full-time    Mid-Senior level   \n",
       "807           Odisha  Full-time         Entry level   \n",
       "808        Rajasthan  Full-time         Entry level   \n",
       "809        Telangana  Full-time    Mid-Senior level   \n",
       "810        Rajasthan  Full-time           Associate   \n",
       "\n",
       "                           Industry  \n",
       "0     IT Services and IT Consulting  \n",
       "1     IT Services and IT Consulting  \n",
       "2     IT Services and IT Consulting  \n",
       "3     IT Services and IT Consulting  \n",
       "4     IT Services and IT Consulting  \n",
       "..                              ...  \n",
       "806   IT Services and IT Consulting  \n",
       "807   IT Services and IT Consulting  \n",
       "808   IT Services and IT Consulting  \n",
       "809   IT Services and IT Consulting  \n",
       "810   IT Services and IT Consulting  \n",
       "\n",
       "[811 rows x 7 columns]"
      ]
     },
     "execution_count": 18,
     "metadata": {},
     "output_type": "execute_result"
    }
   ],
   "source": [
    "df_categorical"
   ]
  },
  {
   "cell_type": "code",
   "execution_count": 22,
   "id": "96c17075",
   "metadata": {},
   "outputs": [
    {
     "data": {
      "text/plain": [
       "array([' Maharashtra', ' Delhi', ' Telangana', ' Karnataka', ' Haryana',\n",
       "       ' Tamil Nadu', ' Uttar Pradesh', ' West Bengal', ' Kerala',\n",
       "       ' Madhya Pradesh', ' Odisha', ' Andhra Pradesh', ' Rajasthan',\n",
       "       ' India', ' Gujarat', ' Punjab'], dtype=object)"
      ]
     },
     "execution_count": 22,
     "metadata": {},
     "output_type": "execute_result"
    }
   ],
   "source": [
    "df_categorical['Location'].unique()"
   ]
  },
  {
   "cell_type": "code",
   "execution_count": 23,
   "id": "60c89802",
   "metadata": {},
   "outputs": [
    {
     "data": {
      "text/plain": [
       "array([' Maharashtra', ' Delhi', ' Telangana', ' Karnataka', ' Haryana',\n",
       "       ' Tamil Nadu', ' Uttar Pradesh', ' West Bengal', ' Kerala',\n",
       "       ' Madhya Pradesh', ' Odisha', ' Andhra Pradesh', ' Rajasthan',\n",
       "       ' India', ' Gujarat', ' Punjab'], dtype=object)"
      ]
     },
     "execution_count": 23,
     "metadata": {},
     "output_type": "execute_result"
    }
   ],
   "source": [
    "df_categorical['Location'].unique()"
   ]
  },
  {
   "cell_type": "code",
   "execution_count": 26,
   "id": "493d6725",
   "metadata": {},
   "outputs": [
    {
     "data": {
      "text/plain": [
       "Location\n",
       " Maharashtra       205\n",
       " Telangana         166\n",
       " Karnataka         148\n",
       " Tamil Nadu         59\n",
       " Uttar Pradesh      54\n",
       " Delhi              48\n",
       " Haryana            31\n",
       " West Bengal        27\n",
       " Rajasthan          17\n",
       " Gujarat            14\n",
       " Kerala             10\n",
       " Odisha              9\n",
       " India               9\n",
       " Madhya Pradesh      7\n",
       " Andhra Pradesh      6\n",
       " Punjab              1\n",
       "Name: count, dtype: int64"
      ]
     },
     "execution_count": 26,
     "metadata": {},
     "output_type": "execute_result"
    }
   ],
   "source": [
    "df_categorical.Location.value_counts()"
   ]
  },
  {
   "cell_type": "code",
   "execution_count": 28,
   "id": "723ed847",
   "metadata": {},
   "outputs": [
    {
     "data": {
      "text/plain": [
       "Class\n",
       "Class 4    362\n",
       "Class 1    194\n",
       "Class 3    131\n",
       "Class 2    124\n",
       "Name: count, dtype: int64"
      ]
     },
     "execution_count": 28,
     "metadata": {},
     "output_type": "execute_result"
    }
   ],
   "source": [
    "df_categorical.Class.value_counts()"
   ]
  },
  {
   "cell_type": "code",
   "execution_count": 29,
   "id": "439f6712",
   "metadata": {},
   "outputs": [
    {
     "data": {
      "text/plain": [
       "Company_Name\n",
       "IDESLABS PRIVATE LIMITED     265\n",
       "LTIMindtree                  187\n",
       "Uplers                       122\n",
       "Wipro                        102\n",
       "ACURA SOLUTIONS LTD           97\n",
       "Infosys                       15\n",
       "Tata Consultancy Services     14\n",
       "Vodafone Idea Limited          3\n",
       "Genpact                        3\n",
       "Cactus Communications          2\n",
       "UST                            1\n",
       "Name: count, dtype: int64"
      ]
     },
     "execution_count": 29,
     "metadata": {},
     "output_type": "execute_result"
    }
   ],
   "source": [
    "df_categorical.Company_Name.value_counts()"
   ]
  },
  {
   "cell_type": "code",
   "execution_count": 31,
   "id": "843119ff",
   "metadata": {},
   "outputs": [],
   "source": [
    "df_categorical.Class.replace({\"1st Class\":1, \"2nd Class\":2, \"3rd Class\":3,}, inplace=\n",
    "True)"
   ]
  },
  {
   "cell_type": "code",
   "execution_count": 32,
   "id": "e4edf108",
   "metadata": {},
   "outputs": [
    {
     "data": {
      "text/html": [
       "<div>\n",
       "<style scoped>\n",
       "    .dataframe tbody tr th:only-of-type {\n",
       "        vertical-align: middle;\n",
       "    }\n",
       "\n",
       "    .dataframe tbody tr th {\n",
       "        vertical-align: top;\n",
       "    }\n",
       "\n",
       "    .dataframe thead th {\n",
       "        text-align: right;\n",
       "    }\n",
       "</style>\n",
       "<table border=\"1\" class=\"dataframe\">\n",
       "  <thead>\n",
       "    <tr style=\"text-align: right;\">\n",
       "      <th></th>\n",
       "      <th>Company_Name</th>\n",
       "      <th>Class</th>\n",
       "      <th>Designation</th>\n",
       "      <th>Location</th>\n",
       "      <th>Level</th>\n",
       "      <th>Involvement</th>\n",
       "      <th>Industry</th>\n",
       "    </tr>\n",
       "  </thead>\n",
       "  <tbody>\n",
       "    <tr>\n",
       "      <th>0</th>\n",
       "      <td>Wipro</td>\n",
       "      <td>Class 3</td>\n",
       "      <td>Project Manager</td>\n",
       "      <td>Maharashtra</td>\n",
       "      <td>Full-time</td>\n",
       "      <td>Entry level</td>\n",
       "      <td>IT Services and IT Consulting</td>\n",
       "    </tr>\n",
       "    <tr>\n",
       "      <th>1</th>\n",
       "      <td>Wipro</td>\n",
       "      <td>Class 3</td>\n",
       "      <td>Project Manager</td>\n",
       "      <td>Delhi</td>\n",
       "      <td>Full-time</td>\n",
       "      <td>Entry level</td>\n",
       "      <td>IT Services and IT Consulting</td>\n",
       "    </tr>\n",
       "    <tr>\n",
       "      <th>2</th>\n",
       "      <td>Wipro</td>\n",
       "      <td>Class 3</td>\n",
       "      <td>Project Manager</td>\n",
       "      <td>Delhi</td>\n",
       "      <td>Full-time</td>\n",
       "      <td>Entry level</td>\n",
       "      <td>IT Services and IT Consulting</td>\n",
       "    </tr>\n",
       "    <tr>\n",
       "      <th>3</th>\n",
       "      <td>Wipro</td>\n",
       "      <td>Class 3</td>\n",
       "      <td>Administrator</td>\n",
       "      <td>Telangana</td>\n",
       "      <td>Full-time</td>\n",
       "      <td>Mid-Senior level</td>\n",
       "      <td>IT Services and IT Consulting</td>\n",
       "    </tr>\n",
       "    <tr>\n",
       "      <th>4</th>\n",
       "      <td>Wipro</td>\n",
       "      <td>Class 3</td>\n",
       "      <td>Project Manager</td>\n",
       "      <td>Maharashtra</td>\n",
       "      <td>Full-time</td>\n",
       "      <td>Entry level</td>\n",
       "      <td>IT Services and IT Consulting</td>\n",
       "    </tr>\n",
       "  </tbody>\n",
       "</table>\n",
       "</div>"
      ],
      "text/plain": [
       "  Company_Name    Class      Designation      Location       Level  \\\n",
       "0        Wipro  Class 3  Project Manager   Maharashtra  Full-time    \n",
       "1        Wipro  Class 3  Project Manager         Delhi  Full-time    \n",
       "2        Wipro  Class 3  Project Manager         Delhi  Full-time    \n",
       "3        Wipro  Class 3    Administrator     Telangana  Full-time    \n",
       "4        Wipro  Class 3  Project Manager   Maharashtra  Full-time    \n",
       "\n",
       "         Involvement                        Industry  \n",
       "0        Entry level   IT Services and IT Consulting  \n",
       "1        Entry level   IT Services and IT Consulting  \n",
       "2        Entry level   IT Services and IT Consulting  \n",
       "3   Mid-Senior level   IT Services and IT Consulting  \n",
       "4        Entry level   IT Services and IT Consulting  "
      ]
     },
     "execution_count": 32,
     "metadata": {},
     "output_type": "execute_result"
    }
   ],
   "source": [
    "df_categorical.head()"
   ]
  },
  {
   "cell_type": "code",
   "execution_count": null,
   "id": "84678eb2",
   "metadata": {},
   "outputs": [],
   "source": []
  }
 ],
 "metadata": {
  "kernelspec": {
   "display_name": "Python 3 (ipykernel)",
   "language": "python",
   "name": "python3"
  },
  "language_info": {
   "codemirror_mode": {
    "name": "ipython",
    "version": 3
   },
   "file_extension": ".py",
   "mimetype": "text/x-python",
   "name": "python",
   "nbconvert_exporter": "python",
   "pygments_lexer": "ipython3",
   "version": "3.11.5"
  }
 },
 "nbformat": 4,
 "nbformat_minor": 5
}
