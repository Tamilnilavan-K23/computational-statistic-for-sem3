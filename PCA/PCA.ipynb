{
 "cells": [
  {
   "cell_type": "code",
   "execution_count": 1,
   "metadata": {},
   "outputs": [
    {
     "name": "stdout",
     "output_type": "stream",
     "text": [
      "Requirement already satisfied: numpy in c:\\users\\tamil\\anaconda3\\lib\\site-packages (1.26.4)\n",
      "Requirement already satisfied: pandas in c:\\users\\tamil\\anaconda3\\lib\\site-packages (2.2.2)\n",
      "Requirement already satisfied: numpy>=1.26.0 in c:\\users\\tamil\\anaconda3\\lib\\site-packages (from pandas) (1.26.4)\n",
      "Requirement already satisfied: python-dateutil>=2.8.2 in c:\\users\\tamil\\anaconda3\\lib\\site-packages (from pandas) (2.9.0.post0)\n",
      "Requirement already satisfied: pytz>=2020.1 in c:\\users\\tamil\\anaconda3\\lib\\site-packages (from pandas) (2024.1)\n",
      "Requirement already satisfied: tzdata>=2022.7 in c:\\users\\tamil\\anaconda3\\lib\\site-packages (from pandas) (2023.3)\n",
      "Requirement already satisfied: six>=1.5 in c:\\users\\tamil\\anaconda3\\lib\\site-packages (from python-dateutil>=2.8.2->pandas) (1.16.0)\n"
     ]
    }
   ],
   "source": [
    "! pip install numpy \n",
    "! pip install pandas"
   ]
  },
  {
   "cell_type": "code",
   "execution_count": 2,
   "metadata": {},
   "outputs": [],
   "source": [
    "import numpy as np\n",
    "import pandas as pd\n",
    "import matplotlib.pyplot as plt"
   ]
  },
  {
   "cell_type": "code",
   "execution_count": 4,
   "metadata": {},
   "outputs": [
    {
     "data": {
      "text/html": [
       "<div>\n",
       "<style scoped>\n",
       "    .dataframe tbody tr th:only-of-type {\n",
       "        vertical-align: middle;\n",
       "    }\n",
       "\n",
       "    .dataframe tbody tr th {\n",
       "        vertical-align: top;\n",
       "    }\n",
       "\n",
       "    .dataframe thead th {\n",
       "        text-align: right;\n",
       "    }\n",
       "</style>\n",
       "<table border=\"1\" class=\"dataframe\">\n",
       "  <thead>\n",
       "    <tr style=\"text-align: right;\">\n",
       "      <th></th>\n",
       "      <th>MSSubClass</th>\n",
       "      <th>MSZoning</th>\n",
       "      <th>LotFrontage</th>\n",
       "      <th>LotArea</th>\n",
       "      <th>Street</th>\n",
       "      <th>Alley</th>\n",
       "      <th>LotShape</th>\n",
       "      <th>LandContour</th>\n",
       "      <th>Utilities</th>\n",
       "      <th>LotConfig</th>\n",
       "      <th>...</th>\n",
       "      <th>PoolArea</th>\n",
       "      <th>PoolQC</th>\n",
       "      <th>Fence</th>\n",
       "      <th>MiscFeature</th>\n",
       "      <th>MiscVal</th>\n",
       "      <th>MoSold</th>\n",
       "      <th>YrSold</th>\n",
       "      <th>SaleType</th>\n",
       "      <th>SaleCondition</th>\n",
       "      <th>SalePrice</th>\n",
       "    </tr>\n",
       "    <tr>\n",
       "      <th>Id</th>\n",
       "      <th></th>\n",
       "      <th></th>\n",
       "      <th></th>\n",
       "      <th></th>\n",
       "      <th></th>\n",
       "      <th></th>\n",
       "      <th></th>\n",
       "      <th></th>\n",
       "      <th></th>\n",
       "      <th></th>\n",
       "      <th></th>\n",
       "      <th></th>\n",
       "      <th></th>\n",
       "      <th></th>\n",
       "      <th></th>\n",
       "      <th></th>\n",
       "      <th></th>\n",
       "      <th></th>\n",
       "      <th></th>\n",
       "      <th></th>\n",
       "      <th></th>\n",
       "    </tr>\n",
       "  </thead>\n",
       "  <tbody>\n",
       "    <tr>\n",
       "      <th>1</th>\n",
       "      <td>60</td>\n",
       "      <td>RL</td>\n",
       "      <td>65.0</td>\n",
       "      <td>8450</td>\n",
       "      <td>Pave</td>\n",
       "      <td>NaN</td>\n",
       "      <td>Reg</td>\n",
       "      <td>Lvl</td>\n",
       "      <td>AllPub</td>\n",
       "      <td>Inside</td>\n",
       "      <td>...</td>\n",
       "      <td>0</td>\n",
       "      <td>NaN</td>\n",
       "      <td>NaN</td>\n",
       "      <td>NaN</td>\n",
       "      <td>0</td>\n",
       "      <td>2</td>\n",
       "      <td>2008</td>\n",
       "      <td>WD</td>\n",
       "      <td>Normal</td>\n",
       "      <td>208500</td>\n",
       "    </tr>\n",
       "    <tr>\n",
       "      <th>2</th>\n",
       "      <td>20</td>\n",
       "      <td>RL</td>\n",
       "      <td>80.0</td>\n",
       "      <td>9600</td>\n",
       "      <td>Pave</td>\n",
       "      <td>NaN</td>\n",
       "      <td>Reg</td>\n",
       "      <td>Lvl</td>\n",
       "      <td>AllPub</td>\n",
       "      <td>FR2</td>\n",
       "      <td>...</td>\n",
       "      <td>0</td>\n",
       "      <td>NaN</td>\n",
       "      <td>NaN</td>\n",
       "      <td>NaN</td>\n",
       "      <td>0</td>\n",
       "      <td>5</td>\n",
       "      <td>2007</td>\n",
       "      <td>WD</td>\n",
       "      <td>Normal</td>\n",
       "      <td>181500</td>\n",
       "    </tr>\n",
       "    <tr>\n",
       "      <th>3</th>\n",
       "      <td>60</td>\n",
       "      <td>RL</td>\n",
       "      <td>68.0</td>\n",
       "      <td>11250</td>\n",
       "      <td>Pave</td>\n",
       "      <td>NaN</td>\n",
       "      <td>IR1</td>\n",
       "      <td>Lvl</td>\n",
       "      <td>AllPub</td>\n",
       "      <td>Inside</td>\n",
       "      <td>...</td>\n",
       "      <td>0</td>\n",
       "      <td>NaN</td>\n",
       "      <td>NaN</td>\n",
       "      <td>NaN</td>\n",
       "      <td>0</td>\n",
       "      <td>9</td>\n",
       "      <td>2008</td>\n",
       "      <td>WD</td>\n",
       "      <td>Normal</td>\n",
       "      <td>223500</td>\n",
       "    </tr>\n",
       "    <tr>\n",
       "      <th>4</th>\n",
       "      <td>70</td>\n",
       "      <td>RL</td>\n",
       "      <td>60.0</td>\n",
       "      <td>9550</td>\n",
       "      <td>Pave</td>\n",
       "      <td>NaN</td>\n",
       "      <td>IR1</td>\n",
       "      <td>Lvl</td>\n",
       "      <td>AllPub</td>\n",
       "      <td>Corner</td>\n",
       "      <td>...</td>\n",
       "      <td>0</td>\n",
       "      <td>NaN</td>\n",
       "      <td>NaN</td>\n",
       "      <td>NaN</td>\n",
       "      <td>0</td>\n",
       "      <td>2</td>\n",
       "      <td>2006</td>\n",
       "      <td>WD</td>\n",
       "      <td>Abnorml</td>\n",
       "      <td>140000</td>\n",
       "    </tr>\n",
       "    <tr>\n",
       "      <th>5</th>\n",
       "      <td>60</td>\n",
       "      <td>RL</td>\n",
       "      <td>84.0</td>\n",
       "      <td>14260</td>\n",
       "      <td>Pave</td>\n",
       "      <td>NaN</td>\n",
       "      <td>IR1</td>\n",
       "      <td>Lvl</td>\n",
       "      <td>AllPub</td>\n",
       "      <td>FR2</td>\n",
       "      <td>...</td>\n",
       "      <td>0</td>\n",
       "      <td>NaN</td>\n",
       "      <td>NaN</td>\n",
       "      <td>NaN</td>\n",
       "      <td>0</td>\n",
       "      <td>12</td>\n",
       "      <td>2008</td>\n",
       "      <td>WD</td>\n",
       "      <td>Normal</td>\n",
       "      <td>250000</td>\n",
       "    </tr>\n",
       "  </tbody>\n",
       "</table>\n",
       "<p>5 rows × 80 columns</p>\n",
       "</div>"
      ],
      "text/plain": [
       "    MSSubClass MSZoning  LotFrontage  LotArea Street Alley LotShape  \\\n",
       "Id                                                                    \n",
       "1           60       RL         65.0     8450   Pave   NaN      Reg   \n",
       "2           20       RL         80.0     9600   Pave   NaN      Reg   \n",
       "3           60       RL         68.0    11250   Pave   NaN      IR1   \n",
       "4           70       RL         60.0     9550   Pave   NaN      IR1   \n",
       "5           60       RL         84.0    14260   Pave   NaN      IR1   \n",
       "\n",
       "   LandContour Utilities LotConfig  ... PoolArea PoolQC Fence MiscFeature  \\\n",
       "Id                                  ...                                     \n",
       "1          Lvl    AllPub    Inside  ...        0    NaN   NaN         NaN   \n",
       "2          Lvl    AllPub       FR2  ...        0    NaN   NaN         NaN   \n",
       "3          Lvl    AllPub    Inside  ...        0    NaN   NaN         NaN   \n",
       "4          Lvl    AllPub    Corner  ...        0    NaN   NaN         NaN   \n",
       "5          Lvl    AllPub       FR2  ...        0    NaN   NaN         NaN   \n",
       "\n",
       "   MiscVal MoSold  YrSold  SaleType  SaleCondition  SalePrice  \n",
       "Id                                                             \n",
       "1        0      2    2008        WD         Normal     208500  \n",
       "2        0      5    2007        WD         Normal     181500  \n",
       "3        0      9    2008        WD         Normal     223500  \n",
       "4        0      2    2006        WD        Abnorml     140000  \n",
       "5        0     12    2008        WD         Normal     250000  \n",
       "\n",
       "[5 rows x 80 columns]"
      ]
     },
     "execution_count": 4,
     "metadata": {},
     "output_type": "execute_result"
    }
   ],
   "source": [
    "df=pd.read_csv(r\"F:\\computational statistic\\computational-statistic-for-sem3\\dataset\\train.csv\",index_col=0)\n",
    "df.head()"
   ]
  },
  {
   "cell_type": "code",
   "execution_count": 6,
   "metadata": {},
   "outputs": [
    {
     "name": "stdout",
     "output_type": "stream",
     "text": [
      "Original Dataframe:\n",
      "      MSSubClass MSZoning  LotFrontage  LotArea Street Alley LotShape  \\\n",
      "Id                                                                      \n",
      "1             60       RL         65.0     8450   Pave   NaN      Reg   \n",
      "2             20       RL         80.0     9600   Pave   NaN      Reg   \n",
      "3             60       RL         68.0    11250   Pave   NaN      IR1   \n",
      "4             70       RL         60.0     9550   Pave   NaN      IR1   \n",
      "5             60       RL         84.0    14260   Pave   NaN      IR1   \n",
      "...          ...      ...          ...      ...    ...   ...      ...   \n",
      "1456          60       RL         62.0     7917   Pave   NaN      Reg   \n",
      "1457          20       RL         85.0    13175   Pave   NaN      Reg   \n",
      "1458          70       RL         66.0     9042   Pave   NaN      Reg   \n",
      "1459          20       RL         68.0     9717   Pave   NaN      Reg   \n",
      "1460          20       RL         75.0     9937   Pave   NaN      Reg   \n",
      "\n",
      "     LandContour Utilities LotConfig  ... PoolArea PoolQC  Fence MiscFeature  \\\n",
      "Id                                    ...                                      \n",
      "1            Lvl    AllPub    Inside  ...        0    NaN    NaN         NaN   \n",
      "2            Lvl    AllPub       FR2  ...        0    NaN    NaN         NaN   \n",
      "3            Lvl    AllPub    Inside  ...        0    NaN    NaN         NaN   \n",
      "4            Lvl    AllPub    Corner  ...        0    NaN    NaN         NaN   \n",
      "5            Lvl    AllPub       FR2  ...        0    NaN    NaN         NaN   \n",
      "...          ...       ...       ...  ...      ...    ...    ...         ...   \n",
      "1456         Lvl    AllPub    Inside  ...        0    NaN    NaN         NaN   \n",
      "1457         Lvl    AllPub    Inside  ...        0    NaN  MnPrv         NaN   \n",
      "1458         Lvl    AllPub    Inside  ...        0    NaN  GdPrv        Shed   \n",
      "1459         Lvl    AllPub    Inside  ...        0    NaN    NaN         NaN   \n",
      "1460         Lvl    AllPub    Inside  ...        0    NaN    NaN         NaN   \n",
      "\n",
      "     MiscVal MoSold  YrSold  SaleType  SaleCondition  SalePrice  \n",
      "Id                                                               \n",
      "1          0      2    2008        WD         Normal     208500  \n",
      "2          0      5    2007        WD         Normal     181500  \n",
      "3          0      9    2008        WD         Normal     223500  \n",
      "4          0      2    2006        WD        Abnorml     140000  \n",
      "5          0     12    2008        WD         Normal     250000  \n",
      "...      ...    ...     ...       ...            ...        ...  \n",
      "1456       0      8    2007        WD         Normal     175000  \n",
      "1457       0      2    2010        WD         Normal     210000  \n",
      "1458    2500      5    2010        WD         Normal     266500  \n",
      "1459       0      4    2010        WD         Normal     142125  \n",
      "1460       0      6    2008        WD         Normal     147500  \n",
      "\n",
      "[1460 rows x 80 columns]\n"
     ]
    }
   ],
   "source": [
    "from sklearn.decomposition import PCA \n",
    "\n",
    "af=pd.DataFrame(df)\n",
    "print(\"Original Dataframe:\")\n",
    "print(af)"
   ]
  },
  {
   "cell_type": "code",
   "execution_count": 20,
   "metadata": {},
   "outputs": [
    {
     "name": "stdout",
     "output_type": "stream",
     "text": [
      "Index(['MSZoning', 'Street', 'Alley', 'LotShape', 'LandContour', 'Utilities',\n",
      "       'LotConfig', 'LandSlope', 'Neighborhood', 'Condition1', 'Condition2',\n",
      "       'BldgType', 'HouseStyle', 'RoofStyle', 'RoofMatl', 'Exterior1st',\n",
      "       'Exterior2nd', 'MasVnrType', 'ExterQual', 'ExterCond', 'Foundation',\n",
      "       'BsmtQual', 'BsmtCond', 'BsmtExposure', 'BsmtFinType1', 'BsmtFinType2',\n",
      "       'Heating', 'HeatingQC', 'CentralAir', 'Electrical', 'KitchenQual',\n",
      "       'Functional', 'FireplaceQu', 'GarageType', 'GarageFinish', 'GarageQual',\n",
      "       'GarageCond', 'PavedDrive', 'PoolQC', 'Fence', 'MiscFeature',\n",
      "       'SaleType', 'SaleCondition'],\n",
      "      dtype='object')\n"
     ]
    },
    {
     "data": {
      "text/plain": [
       "array(['WD', 'New', 'COD', 'ConLD', 'ConLI', 'CWD', 'ConLw', 'Con', 'Oth'],\n",
       "      dtype=object)"
      ]
     },
     "execution_count": 20,
     "metadata": {},
     "output_type": "execute_result"
    }
   ],
   "source": [
    "clo_ex_df=df.select_dtypes(exclude='number').columns\n",
    "print(clo_ex_df)\n",
    "\n",
    "a=df['SaleType']\n",
    "a.unique()"
   ]
  },
  {
   "cell_type": "code",
   "execution_count": 23,
   "metadata": {},
   "outputs": [
    {
     "name": "stdout",
     "output_type": "stream",
     "text": [
      "Index(['MSSubClass', 'LotFrontage', 'LotArea', 'OverallQual', 'OverallCond',\n",
      "       'YearBuilt', 'YearRemodAdd', 'MasVnrArea', 'BsmtFinSF1', 'BsmtFinSF2',\n",
      "       'BsmtUnfSF', 'TotalBsmtSF', '1stFlrSF', '2ndFlrSF', 'LowQualFinSF',\n",
      "       'GrLivArea', 'BsmtFullBath', 'BsmtHalfBath', 'FullBath', 'HalfBath',\n",
      "       'BedroomAbvGr', 'KitchenAbvGr', 'TotRmsAbvGrd', 'Fireplaces',\n",
      "       'GarageYrBlt', 'GarageCars', 'GarageArea', 'WoodDeckSF', 'OpenPorchSF',\n",
      "       'EnclosedPorch', '3SsnPorch', 'ScreenPorch', 'PoolArea', 'MiscVal',\n",
      "       'MoSold', 'YrSold', 'SalePrice'],\n",
      "      dtype='object')\n"
     ]
    },
    {
     "data": {
      "text/plain": [
       "array([ 2,  5,  9, 12, 10,  8, 11,  4,  1,  7,  3,  6], dtype=int64)"
      ]
     },
     "execution_count": 23,
     "metadata": {},
     "output_type": "execute_result"
    }
   ],
   "source": [
    "clo_in_df=df.select_dtypes(include='number').columns\n",
    "print(clo_in_df)\n",
    "\n",
    "b=df['MoSold']\n",
    "b.unique()"
   ]
  },
  {
   "cell_type": "code",
   "execution_count": 24,
   "metadata": {},
   "outputs": [
    {
     "name": "stdout",
     "output_type": "stream",
     "text": [
      "\n",
      "Aggregated DataFrame:\n",
      "<bound method DataFrame.reset_index of                         Total_price      mean_yr  count\n",
      "SaleCondition SaleType                                 \n",
      "Abnorml       COD           3488300  2008.625000     24\n",
      "              CWD            328900  2008.000000      1\n",
      "              ConLD          164900  2008.500000      2\n",
      "              ConLI          125000  2006.000000      1\n",
      "              Oth            359550  2006.666667      3\n",
      "              WD           10332539  2007.371429     70\n",
      "AdjLand       WD             416500  2006.750000      4\n",
      "Alloca        WD            2008529  2008.166667     12\n",
      "Family        CWD            136000  2007.000000      1\n",
      "              WD            2856000  2007.210526     19\n",
      "Normal        COD           2702550  2007.684211     19\n",
      "              CWD            377500  2007.000000      2\n",
      "              Con            539200  2009.000000      2\n",
      "              ConLD          849000  2007.500000      6\n",
      "              ConLI          876950  2009.250000      4\n",
      "              ConLw          718500  2008.200000      5\n",
      "              WD          203828559  2007.896552   1160\n",
      "Partial       ConLD          235128  2008.000000      1\n",
      "              New          33543341  2007.229508    122\n",
      "              WD             258000  2008.500000      2>\n"
     ]
    }
   ],
   "source": [
    "aggregrated_df=df.groupby(['SaleCondition','SaleType']).agg(\n",
    "    Total_price=('SalePrice','sum'),\n",
    "    mean_yr=('YrSold','mean'),\n",
    "    count=('SalePrice','count')\n",
    ").reset_index\n",
    "\n",
    "print(\"\\nAggregated DataFrame:\") \n",
    "print(aggregrated_df) "
   ]
  },
  {
   "cell_type": "code",
   "execution_count": 25,
   "metadata": {},
   "outputs": [],
   "source": [
    "numerical_data = df[['SalePrice', 'YrSold']]"
   ]
  },
  {
   "cell_type": "code",
   "execution_count": 26,
   "metadata": {},
   "outputs": [],
   "source": [
    "pca = PCA(n_components=1) \n",
    "pca_result = pca.fit_transform(numerical_data)"
   ]
  },
  {
   "cell_type": "code",
   "execution_count": 27,
   "metadata": {},
   "outputs": [
    {
     "name": "stdout",
     "output_type": "stream",
     "text": [
      "\n",
      "DataFrame with PCA (Dimensionality Reduced):\n",
      "      MSSubClass MSZoning  LotFrontage  LotArea Street Alley LotShape  \\\n",
      "Id                                                                      \n",
      "1             60       RL         65.0     8450   Pave   NaN      Reg   \n",
      "2             20       RL         80.0     9600   Pave   NaN      Reg   \n",
      "3             60       RL         68.0    11250   Pave   NaN      IR1   \n",
      "4             70       RL         60.0     9550   Pave   NaN      IR1   \n",
      "5             60       RL         84.0    14260   Pave   NaN      IR1   \n",
      "...          ...      ...          ...      ...    ...   ...      ...   \n",
      "1456          60       RL         62.0     7917   Pave   NaN      Reg   \n",
      "1457          20       RL         85.0    13175   Pave   NaN      Reg   \n",
      "1458          70       RL         66.0     9042   Pave   NaN      Reg   \n",
      "1459          20       RL         68.0     9717   Pave   NaN      Reg   \n",
      "1460          20       RL         75.0     9937   Pave   NaN      Reg   \n",
      "\n",
      "     LandContour Utilities LotConfig  ... PoolQC  Fence MiscFeature MiscVal  \\\n",
      "Id                                    ...                                     \n",
      "1            Lvl    AllPub    Inside  ...    NaN    NaN         NaN       0   \n",
      "2            Lvl    AllPub       FR2  ...    NaN    NaN         NaN       0   \n",
      "3            Lvl    AllPub    Inside  ...    NaN    NaN         NaN       0   \n",
      "4            Lvl    AllPub    Corner  ...    NaN    NaN         NaN       0   \n",
      "5            Lvl    AllPub       FR2  ...    NaN    NaN         NaN       0   \n",
      "...          ...       ...       ...  ...    ...    ...         ...     ...   \n",
      "1456         Lvl    AllPub    Inside  ...    NaN    NaN         NaN       0   \n",
      "1457         Lvl    AllPub    Inside  ...    NaN  MnPrv         NaN       0   \n",
      "1458         Lvl    AllPub    Inside  ...    NaN  GdPrv        Shed    2500   \n",
      "1459         Lvl    AllPub    Inside  ...    NaN    NaN         NaN       0   \n",
      "1460         Lvl    AllPub    Inside  ...    NaN    NaN         NaN       0   \n",
      "\n",
      "     MoSold YrSold  SaleType  SaleCondition  SalePrice         PCA_1  \n",
      "Id                                                                    \n",
      "1         2   2008        WD         Normal     208500  27578.804109  \n",
      "2         5   2007        WD         Normal     181500    578.804110  \n",
      "3         9   2008        WD         Normal     223500  42578.804109  \n",
      "4         2   2006        WD        Abnorml     140000 -40921.195890  \n",
      "5        12   2008        WD         Normal     250000  69078.804109  \n",
      "...     ...    ...       ...            ...        ...           ...  \n",
      "1456      8   2007        WD         Normal     175000  -5921.195890  \n",
      "1457      2   2010        WD         Normal     210000  29078.804109  \n",
      "1458      5   2010        WD         Normal     266500  85578.804109  \n",
      "1459      4   2010        WD         Normal     142125 -38796.195891  \n",
      "1460      6   2008        WD         Normal     147500 -33421.195890  \n",
      "\n",
      "[1460 rows x 81 columns]\n"
     ]
    }
   ],
   "source": [
    "df['PCA_1'] = pca_result \n",
    "print(\"\\nDataFrame with PCA (Dimensionality Reduced):\") \n",
    "print(df) "
   ]
  },
  {
   "cell_type": "code",
   "execution_count": 28,
   "metadata": {},
   "outputs": [
    {
     "name": "stdout",
     "output_type": "stream",
     "text": [
      "\n",
      "Explained Variance by PCA_1: 1.00\n"
     ]
    }
   ],
   "source": [
    "explained_variance = pca.explained_variance_ratio_[0] \n",
    "print(f\"\\nExplained Variance by PCA_1: {explained_variance:.2f}\")"
   ]
  },
  {
   "cell_type": "code",
   "execution_count": null,
   "metadata": {},
   "outputs": [],
   "source": []
  }
 ],
 "metadata": {
  "kernelspec": {
   "display_name": "base",
   "language": "python",
   "name": "python3"
  },
  "language_info": {
   "codemirror_mode": {
    "name": "ipython",
    "version": 3
   },
   "file_extension": ".py",
   "mimetype": "text/x-python",
   "name": "python",
   "nbconvert_exporter": "python",
   "pygments_lexer": "ipython3",
   "version": "3.12.4"
  }
 },
 "nbformat": 4,
 "nbformat_minor": 2
}
