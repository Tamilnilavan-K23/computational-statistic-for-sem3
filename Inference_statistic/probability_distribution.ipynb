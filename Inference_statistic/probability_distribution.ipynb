{
 "cells": [
  {
   "cell_type": "markdown",
   "metadata": {},
   "source": [
    "                                                           probability_distribution"
   ]
  },
  {
   "cell_type": "code",
   "execution_count": 1,
   "metadata": {},
   "outputs": [],
   "source": [
    "%matplotlib inline\n",
    "import numpy as np\n",
    "import pandas as pd\n",
    "import scipy.stats as stats\n",
    "import matplotlib.pyplot as plt\n",
    "import math"
   ]
  },
  {
   "cell_type": "code",
   "execution_count": null,
   "metadata": {},
   "outputs": [],
   "source": [
    "uniform_data = stats.uniform.rvs(size=100000, # Generate 100000 numbers\n",
    "\n",
    "loc = 0, # From 0\n",
    "scale=10) # To 10\n",
    "\n",
    "pd.DataFrame(uniform_data).plot(kind=\"density\", # Plot the distribution\n",
    "\n",
    "figsize=(9,9),\n",
    "xlim=(-1,11))"
   ]
  },
  {
   "cell_type": "code",
   "execution_count": 3,
   "metadata": {},
   "outputs": [
    {
     "data": {
      "text/plain": [
       "np.float64(0.25)"
      ]
     },
     "execution_count": 3,
     "metadata": {},
     "output_type": "execute_result"
    }
   ],
   "source": [
    "stats.uniform.cdf(x=2.5, # Cutoff value (quantile) to check\n",
    "\n",
    "loc=0, # Distribution start\n",
    "scale=10) # Distribution end"
   ]
  },
  {
   "cell_type": "code",
   "execution_count": 4,
   "metadata": {},
   "outputs": [
    {
     "data": {
      "text/plain": [
       "np.float64(4.0)"
      ]
     },
     "execution_count": 4,
     "metadata": {},
     "output_type": "execute_result"
    }
   ],
   "source": [
    "stats.uniform.ppf(q=0.4, # Probability cutoff\n",
    "loc=0, # Distribution start\n",
    "scale=10) # Distribution end"
   ]
  },
  {
   "cell_type": "code",
   "execution_count": 7,
   "metadata": {},
   "outputs": [
    {
     "name": "stdout",
     "output_type": "stream",
     "text": [
      "Density at x value -1\n",
      "Density at x value 2\n",
      "Density at x value 5\n",
      "Density at x value 8\n",
      "Density at x value 11\n",
      "0.0\n"
     ]
    }
   ],
   "source": [
    "for x in range(-1,12,3):\n",
    "  print(\"Density at x value \" + str(x))\n",
    "print( stats.uniform.pdf(x, loc=0, scale=10) )"
   ]
  },
  {
   "cell_type": "code",
   "execution_count": 8,
   "metadata": {},
   "outputs": [
    {
     "data": {
      "text/plain": [
       "5.4214646030742"
      ]
     },
     "execution_count": 8,
     "metadata": {},
     "output_type": "execute_result"
    }
   ],
   "source": [
    "import random\n",
    "random.randint(0,10) # Get a random integer in the specified range\n",
    "\n",
    "random.choice([2,4,6,9]) # Get a random element from a sequence\n",
    "\n",
    "random.random() # Get a real number between 0 and 1\n",
    "\n",
    "random.uniform(0,10) # Get a real in the specified range"
   ]
  },
  {
   "cell_type": "code",
   "execution_count": 9,
   "metadata": {},
   "outputs": [
    {
     "name": "stdout",
     "output_type": "stream",
     "text": [
      "[4.7457067868854805, 6.574725026572553, 6.664104711248381, 1.4260035292536777]\n",
      "[4.7457067868854805, 6.574725026572553, 6.664104711248381, 1.4260035292536777]\n"
     ]
    }
   ],
   "source": [
    "random.seed(12) # Set the seed to an arbitrary value\n",
    "print([random.uniform(0,10) for x in range(4)])\n",
    "random.seed(12) # Set the seed to the same value\n",
    "print([random.uniform(0,10) for x in range(4)])"
   ]
  }
 ],
 "metadata": {
  "kernelspec": {
   "display_name": "gstmodel",
   "language": "python",
   "name": "python3"
  },
  "language_info": {
   "codemirror_mode": {
    "name": "ipython",
    "version": 3
   },
   "file_extension": ".py",
   "mimetype": "text/x-python",
   "name": "python",
   "nbconvert_exporter": "python",
   "pygments_lexer": "ipython3",
   "version": "3.12.5"
  }
 },
 "nbformat": 4,
 "nbformat_minor": 2
}
